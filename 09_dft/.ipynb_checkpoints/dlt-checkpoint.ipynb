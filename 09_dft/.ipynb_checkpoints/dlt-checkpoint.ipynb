{
 "cells": [
  {
   "cell_type": "markdown",
   "id": "3b4dff60",
   "metadata": {},
   "source": [
    "# DLT(Direct linear transformation)\n",
    "参照URL : https://sportict.jp/3dlt-1/\n",
    "\n",
    "## 既知の実空間座標(X, Y, Z)\n",
    "1. TL (0, 0, 0)\n",
    "2. TR (0, 900, 0)\n",
    "3. BR (1800, 900, 0)\n",
    "4. BL (1800, 0, 0)\n",
    "5. 青ペン (0, 0, 140)\n",
    "6. 赤ペン (0, 900, 140)"
   ]
  },
  {
   "cell_type": "code",
   "execution_count": 1,
   "id": "a96b42c7",
   "metadata": {},
   "outputs": [],
   "source": [
    "# install package\n",
    "import os\n",
    "import cv2\n",
    "import numpy as np\n",
    "from matplotlib import pyplot as plt\n",
    "from mpl_toolkits.mplot3d import Axes3D\n",
    "import sympy\n",
    "from IPython.display import clear_output\n",
    "\n",
    "%matplotlib notebook"
   ]
  },
  {
   "cell_type": "code",
   "execution_count": null,
   "id": "54c87502",
   "metadata": {},
   "outputs": [],
   "source": [
    "# 画像クラス\n",
    "class Picture:\n",
    "    def __init__(self, imgPath, realCoords):\n",
    "        if os.path.isfile(imgPath):\n",
    "            self.img = cv2.imread(imgPath)\n",
    "            self.iCoords = []\n",
    "            self.rCoords = realCoords\n",
    "            self.X = []\n",
    "            self.U = []\n",
    "            self.L = []\n",
    "            # 関数処理\n",
    "            self.getICoords() # 画像座標取得\n",
    "            self.dltMatrix() # DLTパラメータ算出\n",
    "        else:\n",
    "            raise Exception(\"ファイル：{}が存在しません\".format(imgPath))\n",
    "    \n",
    "    # OpenCV用関数\n",
    "    def imgClick(self, event, u, v, flags, params):\n",
    "        if event == cv2.EVENT_LBUTTONDOWN:\n",
    "            self.U.append([u, v])\n",
    "            print(len(self.U), [u, v])\n",
    "        elif event == cv2.EVENT_RBUTTONDOWN:\n",
    "            self.U = []\n",
    "    \n",
    "    def getICoords(self):\n",
    "        cv2.imshow(\"Calibration\", self.img)\n",
    "        cv2.setMouseCallback(\"Calibration\", self.imgClick)\n",
    "        cv2.destroyAllWindows()\n",
    "    # DLTパラメータ用関数\n",
    "    def uArray(self, i):\n",
    "        u = self.iCoords[i][0]\n",
    "        return [self.rCoords[i][0], self.rCoords[i][1], self.rCoords[i][2], 1, 0, 0, 0, 0, -u*self.rCoords[i][0], -u*self.rCoords[i][1], -u*self.rCoords[i][2]]\n",
    "    \n",
    "    def vArray(self, i):\n",
    "        v = self.iCoords[i][1]\n",
    "        return [0, 0, 0, 0, self.rCoords[i][0], self.rCoords[i][1], self.rCoords[i][2], 1, -v*self.rCoords[i][0], -v*self.rCoords[i][1], -v*self.rCoords[i][2]]\n",
    "    \n",
    "    def dltMatrix(self):\n",
    "        pointNum = len(self.iCoords)\n",
    "        # 計測行列X\n",
    "        for index in range(pointNum):\n",
    "            self.X.append(self.uArray(index))\n",
    "            self.X.append(self.vArray(index))\n",
    "        self.X = np.array(self.X)\n",
    "        # 座標画像ベクトルU\n",
    "        self.U = np.array(sum(self.iCoords, []))\n",
    "        # DLTパラメータ\n",
    "        tX = self.X.transform(1, 0) #Xの転置行列\n",
    "        self.L = np.dot(np.dot(np.linarg.inv(np.dot(tX, self.X)), tX), self.U)"
   ]
  },
  {
   "cell_type": "code",
   "execution_count": 2,
   "id": "2e1838ca",
   "metadata": {},
   "outputs": [],
   "source": []
  }
 ],
 "metadata": {
  "kernelspec": {
   "display_name": "Python 3 (ipykernel)",
   "language": "python",
   "name": "python3"
  },
  "language_info": {
   "codemirror_mode": {
    "name": "ipython",
    "version": 3
   },
   "file_extension": ".py",
   "mimetype": "text/x-python",
   "name": "python",
   "nbconvert_exporter": "python",
   "pygments_lexer": "ipython3",
   "version": "3.9.12"
  }
 },
 "nbformat": 4,
 "nbformat_minor": 5
}
