{
 "cells": [
  {
   "cell_type": "code",
   "execution_count": null,
   "id": "63a2b7e6",
   "metadata": {},
   "outputs": [],
   "source": [
    "# install package\n",
    "import cv2\n",
    "import numpy as np\n",
    "from matplotlib import pyplot a"
   ]
  }
 ],
 "metadata": {
  "kernelspec": {
   "display_name": "Python 3 (ipykernel)",
   "language": "python",
   "name": "python3"
  },
  "language_info": {
   "codemirror_mode": {
    "name": "ipython",
    "version": 3
   },
   "file_extension": ".py",
   "mimetype": "text/x-python",
   "name": "python",
   "nbconvert_exporter": "python",
   "pygments_lexer": "ipython3",
   "version": "3.9.12"
  }
 },
 "nbformat": 4,
 "nbformat_minor": 5
}
