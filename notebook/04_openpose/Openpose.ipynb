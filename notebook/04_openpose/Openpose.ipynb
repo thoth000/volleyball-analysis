{
 "cells": [
  {
   "cell_type": "markdown",
   "metadata": {
    "id": "0hLhuliurW6c"
   },
   "source": [
    "# Openpose 1.7.0 Demo"
   ]
  },
  {
   "cell_type": "code",
   "execution_count": 5,
   "metadata": {
    "colab": {
     "base_uri": "https://localhost:8080/"
    },
    "executionInfo": {
     "elapsed": 5,
     "status": "ok",
     "timestamp": 1661754940627,
     "user": {
      "displayName": "Yuma Sano",
      "userId": "04106056917443307929"
     },
     "user_tz": -540
    },
    "id": "hp8rTOJ30J-b",
    "outputId": "2f7f8bac-896b-4927-fa4c-c3ac77506c74"
   },
   "outputs": [
    {
     "name": "stdout",
     "output_type": "stream",
     "text": [
      "Mon Aug 29 22:19:41 2022       \n",
      "+-----------------------------------------------------------------------------+\n",
      "| NVIDIA-SMI 516.94       Driver Version: 516.94       CUDA Version: 11.7     |\n",
      "|-------------------------------+----------------------+----------------------+\n",
      "| GPU  Name            TCC/WDDM | Bus-Id        Disp.A | Volatile Uncorr. ECC |\n",
      "| Fan  Temp  Perf  Pwr:Usage/Cap|         Memory-Usage | GPU-Util  Compute M. |\n",
      "|                               |                      |               MIG M. |\n",
      "|===============================+======================+======================|\n",
      "|   0  NVIDIA GeForce ... WDDM  | 00000000:01:00.0  On |                  N/A |\n",
      "|  0%   46C    P5    14W / 180W |    689MiB /  8192MiB |      5%      Default |\n",
      "|                               |                      |                  N/A |\n",
      "+-------------------------------+----------------------+----------------------+\n",
      "                                                                               \n",
      "+-----------------------------------------------------------------------------+\n",
      "| Processes:                                                                  |\n",
      "|  GPU   GI   CI        PID   Type   Process name                  GPU Memory |\n",
      "|        ID   ID                                                   Usage      |\n",
      "|=============================================================================|\n",
      "|    0   N/A  N/A      4800    C+G   ...bbwe\\Microsoft.Photos.exe    N/A      |\n",
      "|    0   N/A  N/A      6248    C+G   C:\\Windows\\explorer.exe         N/A      |\n",
      "|    0   N/A  N/A      7444    C+G   ...2txyewy\\TextInputHost.exe    N/A      |\n",
      "|    0   N/A  N/A      8052    C+G   ...artMenuExperienceHost.exe    N/A      |\n",
      "|    0   N/A  N/A      8748    C+G   ...5n1h2txyewy\\SearchApp.exe    N/A      |\n",
      "|    0   N/A  N/A     10020    C+G   ...ekyb3d8bbwe\\YourPhone.exe    N/A      |\n",
      "|    0   N/A  N/A     11804    C+G   ...in7x64\\steamwebhelper.exe    N/A      |\n",
      "|    0   N/A  N/A     13732    C+G   ...8wekyb3d8bbwe\\Cortana.exe    N/A      |\n",
      "|    0   N/A  N/A     16128    C+G   ...er_engine\\wallpaper32.exe    N/A      |\n",
      "|    0   N/A  N/A     16420    C+G   ...\\app-1.0.9006\\Discord.exe    N/A      |\n",
      "|    0   N/A  N/A     18368    C+G   ...cw5n1h2txyewy\\LockApp.exe    N/A      |\n",
      "|    0   N/A  N/A     19644    C+G   ...wekyb3d8bbwe\\Video.UI.exe    N/A      |\n",
      "+-----------------------------------------------------------------------------+\n"
     ]
    }
   ],
   "source": [
    "# 最初に、ランタイムの種類を「GPU」に変更してください。（ランタイム＞ランタイムのタイプを変更）\n",
    "# GPUが有効になっていることを確認します。\n",
    "\n",
    "# First, change the runtime type to \"GPU\".\n",
    "# Confirm runtime to GPU\n",
    "#!nvcc --version\n",
    "!nvidia-smi"
   ]
  },
  {
   "cell_type": "code",
   "execution_count": 6,
   "metadata": {
    "colab": {
     "base_uri": "https://localhost:8080/"
    },
    "executionInfo": {
     "elapsed": 4,
     "status": "ok",
     "timestamp": 1661754945220,
     "user": {
      "displayName": "Yuma Sano",
      "userId": "04106056917443307929"
     },
     "user_tz": -540
    },
    "id": "h_ddqkdp0euj",
    "outputId": "c001d09a-c490-4947-86f9-2f712fb98acf"
   },
   "outputs": [
    {
     "name": "stdout",
     "output_type": "stream",
     "text": [
      "v1.7.0\n"
     ]
    }
   ],
   "source": [
    "# Openpose バージョン指定タグ\n",
    "# Openpose version tag\n",
    "ver_openpose = \"v1.7.0\"\n",
    "! echo $ver_openpose"
   ]
  },
  {
   "cell_type": "code",
   "execution_count": 7,
   "metadata": {
    "colab": {
     "base_uri": "https://localhost:8080/"
    },
    "executionInfo": {
     "elapsed": 970,
     "status": "ok",
     "timestamp": 1661754948773,
     "user": {
      "displayName": "Yuma Sano",
      "userId": "04106056917443307929"
     },
     "user_tz": -540
    },
    "id": "WtlM7y630hKK",
    "outputId": "ad9733d4-9f07-4c78-b6d4-673b44c25b0f"
   },
   "outputs": [
    {
     "name": "stdout",
     "output_type": "stream",
     "text": [
      "cmake version 3.22.1\n",
      "\n",
      "CMake suite maintained and supported by Kitware (kitware.com/cmake).\n"
     ]
    }
   ],
   "source": [
    "# CMakeが古いとOpenpose（CUDA10)が失敗するので、バージョンを確認します。（BugfixはCMake 3.12.3）\n",
    "# If CMake is old, Openpose build fails, so download the latest version\n",
    "# https://developercommunity.visualstudio.com/content/problem/354325/cmake-project-cannot-detect-cuda-10.html\n",
    "!cmake --version"
   ]
  },
  {
   "cell_type": "code",
   "execution_count": 8,
   "metadata": {
    "colab": {
     "base_uri": "https://localhost:8080/"
    },
    "executionInfo": {
     "elapsed": 2458,
     "status": "ok",
     "timestamp": 1661698126924,
     "user": {
      "displayName": "Yuma Sano",
      "userId": "04106056917443307929"
     },
     "user_tz": -540
    },
    "id": "AxvRJiaK1QXt",
    "outputId": "f8f3daab-16f0-4b49-a270-46db6167b06e"
   },
   "outputs": [
    {
     "name": "stderr",
     "output_type": "stream",
     "text": [
      "Cloning into 'openpose'...\n",
      "Note: switching to '8ca5c1d95a42340b323e9273654d1db98bec779c'.\n",
      "\n",
      "You are in 'detached HEAD' state. You can look around, make experimental\n",
      "changes and commit them, and you can discard any commits you make in this\n",
      "state without impacting any branches by switching back to a branch.\n",
      "\n",
      "If you want to create a new branch to retain commits you create, you may\n",
      "do so (now or later) by using -c with the switch command. Example:\n",
      "\n",
      "  git switch -c <new-branch-name>\n",
      "\n",
      "Or undo this operation with:\n",
      "\n",
      "  git switch -\n",
      "\n",
      "Turn off this advice by setting config variable advice.detachedHead to false\n",
      "\n"
     ]
    }
   ],
   "source": [
    "# Openposeのコードをclone\n",
    "# Clone Openpose\n",
    "!git clone  --depth 1 -b \"$ver_openpose\" https://github.com/CMU-Perceptual-Computing-Lab/openpose.git"
   ]
  },
  {
   "cell_type": "code",
   "execution_count": 17,
   "metadata": {
    "id": "B7vM17cQ1v3p"
   },
   "outputs": [],
   "source": [
    "# build用ディレクトリを作成\n",
    "# Create build directory\n",
    "! cd openpose && mkdir build && cd build"
   ]
  },
  {
   "cell_type": "code",
   "execution_count": 30,
   "metadata": {
    "colab": {
     "base_uri": "https://localhost:8080/"
    },
    "executionInfo": {
     "elapsed": 18374,
     "status": "ok",
     "timestamp": 1661698228938,
     "user": {
      "displayName": "Yuma Sano",
      "userId": "04106056917443307929"
     },
     "user_tz": -540
    },
    "id": "bhCJ4zsf2AMa",
    "outputId": "1a8f955e-b0b4-469e-9f93-496ffdcb36be"
   },
   "outputs": [
    {
     "name": "stdout",
     "output_type": "stream",
     "text": [
      "-- Configuring incomplete, errors occurred!\n",
      "See also \"C:/Users/owner/Documents/Python Scripts/04_openpose/openpose/build/CMakeFiles/CMakeOutput.log\".\n"
     ]
    },
    {
     "name": "stderr",
     "output_type": "stream",
     "text": [
      "CMake Error at CMakeLists.txt:19 (project):\n",
      "  Running\n",
      "\n",
      "   'nmake' '-?'\n",
      "\n",
      "  failed with:\n",
      "\n",
      "   謖�螳壹＆繧後◆繝輔ぃ繧､繝ｫ縺瑚ｦ九▽縺九ｊ縺ｾ縺帙ｓ縲�\n",
      "\n",
      "\n"
     ]
    }
   ],
   "source": [
    "# https://github.com/CMU-Perceptual-Computing-Lab/openpose/blob/master/doc/installation.md#cmake-command-line-configuration-ubuntu-only\n",
    "# 上記インストール手順のシナリオ１でインストール実行\n",
    "# Scenario 1 - Caffe not installed and OpenCV installed using apt-get \n",
    "#! cd openpose/build && cmake ..\n",
    "# COCOモデルのDLオプション付き(「# ! cd」の部分を「! cd」に変更してください。)\n",
    "# If you want to download the COCO model as well, execute the following command. (Please change \"# ! cd\" part to \"! cd\".)\n",
    "# ! cd openpose/build && cmake .. -D DOWNLOAD_BODY_COCO_MODEL=ON\n",
    "\n",
    "# MPIモデルのDLオプション付き（同上）\n",
    "# If you want to download the MPI model as well, execute the following command.\n",
    "! cd openpose/build && cmake .. -D DOWNLOAD_BODY_MPI_MODEL=ON"
   ]
  },
  {
   "cell_type": "code",
   "execution_count": 33,
   "metadata": {
    "colab": {
     "base_uri": "https://localhost:8080/"
    },
    "executionInfo": {
     "elapsed": 765267,
     "status": "ok",
     "timestamp": 1661699009695,
     "user": {
      "displayName": "Yuma Sano",
      "userId": "04106056917443307929"
     },
     "user_tz": -540
    },
    "id": "L4Zf78976MKN",
    "outputId": "866a1705-3309-4b09-fcb2-2c418cd19eaa"
   },
   "outputs": [
    {
     "name": "stdout",
     "output_type": "stream",
     "text": [
      "MAKE Version 5.41  Copyright (c) 1987, 2014 Embarcadero Technologies, Inc.\n",
      "Error makefile 10: Colon expected\n",
      "*** 1 errors during make ***\n"
     ]
    },
    {
     "name": "stderr",
     "output_type": "stream",
     "text": [
      "サブディレクトリまたはファイル output は既に存在します。\n"
     ]
    }
   ],
   "source": [
    "# Openposeのビルド（15分くらい）\n",
    "# Openpose Building\n",
    "! cd openpose/build && make :`nproc`\n",
    "# outputフォルダ作成\n",
    "! cd openpose && mkdir output"
   ]
  },
  {
   "cell_type": "code",
   "execution_count": null,
   "metadata": {
    "id": "FHajFlRk50Ha"
   },
   "outputs": [],
   "source": [
    "# デモ動画を解析\n",
    "# 出力された解析結果は、Colab画面の左メニューのフォルダアイコンから「openpose/output」以下に配置されます。\n",
    "# Run and check the sample\n",
    "# The output analysis result is placed under \"openpose/output\" from the folder icon on the left menu of the Colab screen.\n",
    "! cd openpose && ./build/examples/openpose/openpose.bin --video examples/media/video.avi --display 0  --write_video ./output/openpose.avi"
   ]
  },
  {
   "cell_type": "code",
   "execution_count": null,
   "metadata": {
    "id": "iu-mWWJmpzCX"
   },
   "outputs": [],
   "source": [
    "# デモ動画の結果をffmpegで再エンコードして表示します。少し時間がかかります。\n",
    "# The result of the demo video is re-encoded with ffmpeg and displayed. It will take some time.\n",
    "! ffmpeg -i \"./openpose/output/openpose.avi\" -c:v libvpx-vp9 -b:v 1000K -r 30 -threads 8 -speed 1 -tile-columns 6 -frame-parallel 1 -auto-alt-ref 1 -lag-in-frames 25 -c:a libopus -b:a 64k -f webm -y out.webm\n",
    "\n",
    "from IPython.display import HTML\n",
    "import base64\n",
    "import io\n",
    "\n",
    "video = io.open('./out.webm', 'r+b').read()\n",
    "encoded = base64.b64encode(video)\n",
    "data  = '''\n",
    "<video id=\"out\" width=\"1280\" height=\"720\" controls><source src=\"data:video/mp4;base64,{0}\" type=\"video/mp4\" /></video>\n",
    "'''.format(encoded.decode('ascii'))\n",
    "\n",
    "HTML(data)"
   ]
  },
  {
   "cell_type": "code",
   "execution_count": null,
   "metadata": {
    "colab": {
     "base_uri": "https://localhost:8080/"
    },
    "executionInfo": {
     "elapsed": 16009,
     "status": "ok",
     "timestamp": 1661699402554,
     "user": {
      "displayName": "Yuma Sano",
      "userId": "04106056917443307929"
     },
     "user_tz": -540
    },
    "id": "i_MzrC8EHHdv",
    "outputId": "f66ddcfc-0c53-4efa-c4d9-3e59f261c5da"
   },
   "outputs": [
    {
     "name": "stdout",
     "output_type": "stream",
     "text": [
      "Mounted at /gdrive\n"
     ]
    }
   ],
   "source": [
    "from google.colab import drive\n",
    "import os\n",
    "\n",
    "# Googleドライブマウント\n",
    "# マウントすると、アクセス許可が求められるので、許可して、キーをコピーして、Colab側の入力欄にCtrl+Vで貼り付けて、Enter。\n",
    "# mount Google Drive\n",
    "# When you mount it, you will be asked for permission, so allow it, copy the key, paste(Ctrl+V) it in the input field on the Colab side, and press Enter.\n",
    "drive.mount('/gdrive')"
   ]
  },
  {
   "cell_type": "code",
   "execution_count": null,
   "metadata": {
    "colab": {
     "base_uri": "https://localhost:8080/"
    },
    "executionInfo": {
     "elapsed": 84199,
     "status": "ok",
     "timestamp": 1661699491889,
     "user": {
      "displayName": "Yuma Sano",
      "userId": "04106056917443307929"
     },
     "user_tz": -540
    },
    "id": "xc4gvXUw_eqN",
    "outputId": "93f93db7-73d6-4df4-bab7-18816a9ac5aa"
   },
   "outputs": [
    {
     "name": "stdout",
     "output_type": "stream",
     "text": [
      "Starting OpenPose demo...\n",
      "Configuring OpenPose...\n",
      "Starting thread(s)...\n",
      "Auto-detecting all available GPUs... Detected 1 GPU(s), using 1 of them starting at GPU 0.\n",
      "ffmpeg version 3.4.11-0ubuntu0.1 Copyright (c) 2000-2022 the FFmpeg developers\n",
      "built with gcc 7 (Ubuntu 7.5.0-3ubuntu1~18.04)\n",
      "configuration: --prefix=/usr --extra-version=0ubuntu0.1 --toolchain=hardened --libdir=/usr/lib/x86_64-linux-gnu --incdir=/usr/include/x86_64-linux-gnu --enable-gpl --disable-stripping --enable-avresample --enable-avisynth --enable-gnutls --enable-ladspa --enable-libass --enable-libbluray --enable-libbs2b --enable-libcaca --enable-libcdio --enable-libflite --enable-libfontconfig --enable-libfreetype --enable-libfribidi --enable-libgme --enable-libgsm --enable-libmp3lame --enable-libmysofa --enable-libopenjpeg --enable-libopenmpt --enable-libopus --enable-libpulse --enable-librubberband --enable-librsvg --enable-libshine --enable-libsnappy --enable-libsoxr --enable-libspeex --enable-libssh --enable-libtheora --enable-libtwolame --enable-libvorbis --enable-libvpx --enable-libwavpack --enable-libwebp --enable-libx265 --enable-libxml2 --enable-libxvid --enable-libzmq --enable-libzvbi --enable-omx --enable-openal --enable-opengl --enable-sdl2 --enable-libdc1394 --enable-libdrm --enable-libiec61883 --enable-chromaprint --enable-frei0r --enable-libopencv --enable-libx264 --enable-shared\n",
      "libavutil      55. 78.100 / 55. 78.100\n",
      "libavcodec     57.107.100 / 57.107.100\n",
      "libavformat    57. 83.100 / 57. 83.100\n",
      "libavdevice    57. 10.100 / 57. 10.100\n",
      "libavfilter     6.107.100 /  6.107.100\n",
      "libavresample   3.  7.  0 /  3.  7.  0\n",
      "libswscale      4.  8.100 /  4.  8.100\n",
      "libswresample   2.  9.100 /  2.  9.100\n",
      "libpostproc    54.  7.100 / 54.  7.100\n",
      "Temporarily saving video frames as JPG images in: /gdrive/My Drive//openposed_r8904530ijyiopf9034jiop4g90j0yh795640h38j\n",
      "OpenPose demo successfully finished. Total time: 69.684664 seconds.\n",
      "JPG images temporarily generated in /gdrive/My Drive//openposed_r8904530ijyiopf9034jiop4g90j0yh795640h38j.\n",
      "Creating MP4 video out of JPG images by running:\n",
      "ffmpeg -y -framerate 30.000000 -i '/gdrive/My Drive//openposed_r8904530ijyiopf9034jiop4g90j0yh795640h38j/%12d_rendered.jpg' -c:v libx264 -pix_fmt yuv420p '/gdrive/My Drive//openposed.mp4'\n",
      "\n",
      "ffmpeg version 3.4.11-0ubuntu0.1 Copyright (c) 2000-2022 the FFmpeg developers\n",
      "  built with gcc 7 (Ubuntu 7.5.0-3ubuntu1~18.04)\n",
      "  configuration: --prefix=/usr --extra-version=0ubuntu0.1 --toolchain=hardened --libdir=/usr/lib/x86_64-linux-gnu --incdir=/usr/include/x86_64-linux-gnu --enable-gpl --disable-stripping --enable-avresample --enable-avisynth --enable-gnutls --enable-ladspa --enable-libass --enable-libbluray --enable-libbs2b --enable-libcaca --enable-libcdio --enable-libflite --enable-libfontconfig --enable-libfreetype --enable-libfribidi --enable-libgme --enable-libgsm --enable-libmp3lame --enable-libmysofa --enable-libopenjpeg --enable-libopenmpt --enable-libopus --enable-libpulse --enable-librubberband --enable-librsvg --enable-libshine --enable-libsnappy --enable-libsoxr --enable-libspeex --enable-libssh --enable-libtheora --enable-libtwolame --enable-libvorbis --enable-libvpx --enable-libwavpack --enable-libwebp --enable-libx265 --enable-libxml2 --enable-libxvid --enable-libzmq --enable-libzvbi --enable-omx --enable-openal --enable-opengl --enable-sdl2 --enable-libdc1394 --enable-libdrm --enable-libiec61883 --enable-chromaprint --enable-frei0r --enable-libopencv --enable-libx264 --enable-shared\n",
      "  libavutil      55. 78.100 / 55. 78.100\n",
      "  libavcodec     57.107.100 / 57.107.100\n",
      "  libavformat    57. 83.100 / 57. 83.100\n",
      "  libavdevice    57. 10.100 / 57. 10.100\n",
      "  libavfilter     6.107.100 /  6.107.100\n",
      "  libavresample   3.  7.  0 /  3.  7.  0\n",
      "  libswscale      4.  8.100 /  4.  8.100\n",
      "  libswresample   2.  9.100 /  2.  9.100\n",
      "  libpostproc    54.  7.100 / 54.  7.100\n",
      "Input #0, image2, from '/gdrive/My Drive//openposed_r8904530ijyiopf9034jiop4g90j0yh795640h38j/%12d_rendered.jpg':\n",
      "  Duration: 00:00:30.17, start: 0.000000, bitrate: N/A\n",
      "    Stream #0:0: Video: mjpeg, yuvj420p(pc, bt470bg/unknown/unknown), 640x360 [SAR 1:1 DAR 16:9], 30 fps, 30 tbr, 30 tbn, 30 tbc\n",
      "Stream mapping:\n",
      "  Stream #0:0 -> #0:0 (mjpeg (native) -> h264 (libx264))\n",
      "Press [q] to stop, [?] for help\n",
      "\u001b[1;34m[swscaler @ 0x558464b10000] \u001b[0m\u001b[0;33mdeprecated pixel format used, make sure you did set range correctly\n",
      "\u001b[0m\u001b[1;36m[libx264 @ 0x55846451de00] \u001b[0musing SAR=1/1\n",
      "\u001b[1;36m[libx264 @ 0x55846451de00] \u001b[0musing cpu capabilities: MMX2 SSE2Fast SSSE3 SSE4.2 AVX FMA3 BMI2 AVX2\n",
      "\u001b[1;36m[libx264 @ 0x55846451de00] \u001b[0mprofile High, level 3.0\n",
      "\u001b[1;36m[libx264 @ 0x55846451de00] \u001b[0m264 - core 152 r2854 e9a5903 - H.264/MPEG-4 AVC codec - Copyleft 2003-2017 - http://www.videolan.org/x264.html - options: cabac=1 ref=3 deblock=1:0:0 analyse=0x3:0x113 me=hex subme=7 psy=1 psy_rd=1.00:0.00 mixed_ref=1 me_range=16 chroma_me=1 trellis=1 8x8dct=1 cqm=0 deadzone=21,11 fast_pskip=1 chroma_qp_offset=-2 threads=3 lookahead_threads=1 sliced_threads=0 nr=0 decimate=1 interlaced=0 bluray_compat=0 constrained_intra=0 bframes=3 b_pyramid=2 b_adapt=1 b_bias=0 direct=1 weightb=1 open_gop=0 weightp=2 keyint=250 keyint_min=25 scenecut=40 intra_refresh=0 rc_lookahead=40 rc=crf mbtree=1 crf=23.0 qcomp=0.60 qpmin=0 qpmax=69 qpstep=4 ip_ratio=1.40 aq=1:1.00\n",
      "Output #0, mp4, to '/gdrive/My Drive//openposed.mp4':\n",
      "  Metadata:\n",
      "    encoder         : Lavf57.83.100\n",
      "    Stream #0:0: Video: h264 (libx264) (avc1 / 0x31637661), yuv420p, 640x360 [SAR 1:1 DAR 16:9], q=-1--1, 30 fps, 15360 tbn, 30 tbc\n",
      "    Metadata:\n",
      "      encoder         : Lavc57.107.100 libx264\n",
      "    Side data:\n",
      "      cpb: bitrate max/min/avg: 0/0/0 buffer size: 0 vbv_delay: -1\n",
      "frame=  905 fps= 84 q=-1.0 Lsize=    2978kB time=00:00:30.06 bitrate= 811.3kbits/s speed=2.78x    \n",
      "video:2966kB audio:0kB subtitle:0kB other streams:0kB global headers:0kB muxing overhead: 0.386544%\n",
      "\u001b[1;36m[libx264 @ 0x55846451de00] \u001b[0mframe I:4     Avg QP:18.71  size: 41444\n",
      "\u001b[1;36m[libx264 @ 0x55846451de00] \u001b[0mframe P:228   Avg QP:23.11  size:  7023\n",
      "\u001b[1;36m[libx264 @ 0x55846451de00] \u001b[0mframe B:673   Avg QP:31.17  size:  1887\n",
      "\u001b[1;36m[libx264 @ 0x55846451de00] \u001b[0mconsecutive B-frames:  0.8%  0.2%  0.0% 99.0%\n",
      "\u001b[1;36m[libx264 @ 0x55846451de00] \u001b[0mmb I  I16..4:  6.7% 17.9% 75.3%\n",
      "\u001b[1;36m[libx264 @ 0x55846451de00] \u001b[0mmb P  I16..4:  0.7%  1.2%  2.5%  P16..4: 18.9%  9.7%  9.8%  0.0%  0.0%    skip:57.1%\n",
      "\u001b[1;36m[libx264 @ 0x55846451de00] \u001b[0mmb B  I16..4:  0.0%  0.0%  0.3%  B16..8: 12.0%  4.5%  2.8%  direct: 1.8%  skip:78.6%  L0:44.9% L1:42.7% BI:12.4%\n",
      "\u001b[1;36m[libx264 @ 0x55846451de00] \u001b[0m8x8 transform intra:22.6% inter:27.7%\n",
      "\u001b[1;36m[libx264 @ 0x55846451de00] \u001b[0mcoded y,uvDC,uvAC intra: 79.0% 86.7% 66.2% inter: 8.1% 9.9% 6.3%\n",
      "\u001b[1;36m[libx264 @ 0x55846451de00] \u001b[0mi16 v,h,dc,p:  6% 75% 10%  9%\n",
      "\u001b[1;36m[libx264 @ 0x55846451de00] \u001b[0mi8 v,h,dc,ddl,ddr,vr,hd,vl,hu: 17% 34% 24%  4%  3%  4%  4%  4%  7%\n",
      "\u001b[1;36m[libx264 @ 0x55846451de00] \u001b[0mi4 v,h,dc,ddl,ddr,vr,hd,vl,hu: 21% 30% 14%  5%  5%  7%  5%  6%  6%\n",
      "\u001b[1;36m[libx264 @ 0x55846451de00] \u001b[0mi8c dc,h,v,p: 40% 30% 23%  7%\n",
      "\u001b[1;36m[libx264 @ 0x55846451de00] \u001b[0mWeighted P-Frames: Y:0.9% UV:0.0%\n",
      "\u001b[1;36m[libx264 @ 0x55846451de00] \u001b[0mref P L0: 71.2% 10.7% 13.3%  4.7%  0.0%\n",
      "\u001b[1;36m[libx264 @ 0x55846451de00] \u001b[0mref B L0: 90.8%  7.7%  1.5%\n",
      "\u001b[1;36m[libx264 @ 0x55846451de00] \u001b[0mref B L1: 95.6%  4.4%\n",
      "\u001b[1;36m[libx264 @ 0x55846451de00] \u001b[0mkb/s:805.32\n",
      "Video saved and temporary image folder removed.\n"
     ]
    }
   ],
   "source": [
    "# Google Drive のルートディレクトリ\n",
    "# Google Drive root directory\n",
    "root_path = \"/gdrive/My Drive/\"\n",
    "\n",
    "# Googleドライブ上で解析したい動画パス（この値を好きな値に変更する事で、ご自分のGoogleドライブ上の動画を解析できます）\n",
    "# Video path that you want to analyze on Google Drive (You can analyze the video on your own Google Drive by changing this value to a value you like)\n",
    "file_path = \"sample.mp4\"\n",
    "\n",
    "# Googleドライブ上の動画を解析（Googleドライブのルートディレクトリに解析結果の「openpose.avi」が出力されます）\n",
    "# Analyze video on Google Drive (The analysis result \"openpose.avi\" is output to the root directory of Google Drive)\n",
    "! cd openpose && ./build/examples/openpose/openpose.bin --video \"$root_path/$file_path\" --display 0  --write_video \"$root_path/openposed.mp4\""
   ]
  },
  {
   "cell_type": "code",
   "execution_count": null,
   "metadata": {
    "colab": {
     "base_uri": "https://localhost:8080/"
    },
    "executionInfo": {
     "elapsed": 4309,
     "status": "ok",
     "timestamp": 1661700693307,
     "user": {
      "displayName": "Yuma Sano",
      "userId": "04106056917443307929"
     },
     "user_tz": -540
    },
    "id": "IAw72QmHD8aY",
    "outputId": "493de16c-b6bf-46a9-d7f2-33b9b381ba0c"
   },
   "outputs": [
    {
     "name": "stdout",
     "output_type": "stream",
     "text": [
      "Starting OpenPose demo...\n",
      "Configuring OpenPose...\n",
      "Starting thread(s)...\n",
      "Auto-detecting all available GPUs... Detected 1 GPU(s), using 1 of them starting at GPU 0.\n",
      "OpenCV: FFMPEG: tag 0x47504a4d/'MJPG' is not supported with codec id 8 and format 'image2 / image2 sequence'\n",
      "OpenPose demo successfully finished. Total time: 3.388164 seconds.\n"
     ]
    }
   ],
   "source": [
    "# 画像バージョン\n",
    "image_path = \"court.jpg\"\n",
    "! cd openpose && ./build/examples/openpose/openpose.bin --video \"$root_path/$image_path\" --display 0  --write_video \"$root_path/openposed.jpg\" --"
   ]
  },
  {
   "cell_type": "code",
   "execution_count": null,
   "metadata": {
    "colab": {
     "base_uri": "https://localhost:8080/",
     "height": 1000,
     "output_embedded_package_id": "13i-NhbkeupwjtFhgk2YWmaOaDupqQkAa"
    },
    "executionInfo": {
     "elapsed": 64295,
     "status": "ok",
     "timestamp": 1661700266169,
     "user": {
      "displayName": "Yuma Sano",
      "userId": "04106056917443307929"
     },
     "user_tz": -540
    },
    "id": "z0FxCZ0BqyA7",
    "outputId": "5a879f81-4921-4e25-f7dc-ffd96964bee7"
   },
   "outputs": [
    {
     "data": {
      "text/plain": [
       "Output hidden; open in https://colab.research.google.com to view."
      ]
     },
     "metadata": {},
     "output_type": "display_data"
    }
   ],
   "source": [
    "# Googleドライブ上の解析結果動画をffmpegで再エンコードして表示します。少し時間がかかります。\n",
    "# The analysis result video on Google Drive is re-encoded with ffmpeg and displayed. It will take some time.\n",
    "! ffmpeg -i \"$root_path/openposed.mp4\" -c:v libvpx-vp9 -b:v 1000K -r 30 -threads 8 -speed 1 -tile-columns 6 -frame-parallel 1 -auto-alt-ref 1 -lag-in-frames 25 -c:a libopus -b:a 64k -f webm -y out.webm\n",
    "\n",
    "from IPython.display import HTML\n",
    "import base64\n",
    "import io\n",
    "\n",
    "video = io.open('./out.webm', 'r+b').read()\n",
    "encoded = base64.b64encode(video)\n",
    "data  = '''\n",
    "<video id=\"out\" width=\"1280\" height=\"720\" controls><source src=\"data:video/mp4;base64,{0}\" type=\"video/mp4\" /></video>\n",
    "'''.format(encoded.decode('ascii'))\n",
    "\n",
    "HTML(data)"
   ]
  },
  {
   "cell_type": "code",
   "execution_count": null,
   "metadata": {
    "id": "-iJ7aREyJWxv"
   },
   "outputs": [],
   "source": [
    "# 指定した人数分のみ解析したい場合、「number_people_max」の後ろに人数を指定して下さい\n",
    "# If you want to analyze only the specified number of people, please specify the number of people after \"number_people_max\"\n",
    "# 結果はひとつ上のコードを再実行する事でブラウザ上で確認できます。\n",
    "# The result can be confirmed on the browser by re-executing the code one level above.\n",
    "! cd openpose && ./build/examples/openpose/openpose.bin --video \"$root_path/$file_path\" --display 0  --write_video \"$root_path/openpose.avi\" --number_people_max 1"
   ]
  },
  {
   "cell_type": "code",
   "execution_count": null,
   "metadata": {
    "id": "Nh9f-GTcKJ3u"
   },
   "outputs": [],
   "source": [
    "# 手の解析も一緒に行いたい場合、「--hand」を追加してください\n",
    "# If you also want to analyze the hands together, add \"--hand\"\n",
    "# 結果は２つ上のコードを再実行する事でブラウザ上で確認できます。\n",
    "# The result can be confirmed on the browser by re-executing the code two level above.\n",
    "! cd openpose && ./build/examples/openpose/openpose.bin --video \"$root_path/$file_path\" --display 0  --write_video \"$root_path/openpose.avi\" --hand"
   ]
  },
  {
   "cell_type": "code",
   "execution_count": null,
   "metadata": {
    "id": "1czsW7anKZbg"
   },
   "outputs": [],
   "source": [
    "# 顔の解析も一緒に行いたい場合、「--face」を追加してください\n",
    "# If you also want to analyze the hands together, add \"--hand\"\n",
    "# 結果は３つ上のコードを再実行する事でブラウザ上で確認できます。\n",
    "# The result can be confirmed on the browser by re-executing the code three level above.\n",
    "! cd openpose && ./build/examples/openpose/openpose.bin --video \"$root_path/$file_path\" --display 0  --write_video \"$root_path/openpose.avi\" --face"
   ]
  }
 ],
 "metadata": {
  "accelerator": "GPU",
  "colab": {
   "collapsed_sections": [],
   "name": "Openpose1_7_0.ipynb",
   "provenance": []
  },
  "gpuClass": "standard",
  "kernelspec": {
   "display_name": "Python 3 (ipykernel)",
   "language": "python",
   "name": "python3"
  },
  "language_info": {
   "codemirror_mode": {
    "name": "ipython",
    "version": 3
   },
   "file_extension": ".py",
   "mimetype": "text/x-python",
   "name": "python",
   "nbconvert_exporter": "python",
   "pygments_lexer": "ipython3",
   "version": "3.8.13"
  }
 },
 "nbformat": 4,
 "nbformat_minor": 1
}
