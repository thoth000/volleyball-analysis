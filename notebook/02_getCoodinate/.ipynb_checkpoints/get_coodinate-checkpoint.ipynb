{
 "cells": [
  {
   "cell_type": "code",
   "execution_count": 9,
   "id": "817e0241",
   "metadata": {},
   "outputs": [],
   "source": [
    "# install package\n",
    "import cv2"
   ]
  },
  {
   "cell_type": "code",
   "execution_count": 10,
   "id": "cb9585fd",
   "metadata": {},
   "outputs": [],
   "source": [
    "path = \"original.png\"\n",
    "img = cv2.imread(path)"
   ]
  },
  {
   "cell_type": "code",
   "execution_count": 11,
   "id": "c12bf099",
   "metadata": {},
   "outputs": [],
   "source": [
    "# define picture size\n",
    "width = 1920\n",
    "height = 1280"
   ]
  },
  {
   "cell_type": "code",
   "execution_count": 12,
   "id": "88e5eacd",
   "metadata": {},
   "outputs": [],
   "source": [
    "cp_origin = []\n",
    "\n",
    "def click(event, x, y, flags, params):\n",
    "    if event == cv2.EVENT_LBUTTONDOWN:\n",
    "        cp_origin.append([x,y])\n",
    "        print(x, y)\n",
    "    elif event == cv2.EVENT_RBUTTONDOWN:\n",
    "        cp_origin = []\n",
    "        print(\"clear\")"
   ]
  },
  {
   "cell_type": "code",
   "execution_count": 13,
   "id": "651e209d",
   "metadata": {},
   "outputs": [
    {
     "name": "stdout",
     "output_type": "stream",
     "text": [
      "255 192\n",
      "33 842\n",
      "1867 829\n",
      "1623 207\n"
     ]
    }
   ],
   "source": [
    "cv2.imshow(\"window1\", img)\n",
    "cv2.setMouseCallback(\"window1\", click)\n",
    "cv2.waitKey(0)\n",
    "cv2.destroyAllWindows()"
   ]
  },
  {
   "cell_type": "code",
   "execution_count": null,
   "id": "48503df9",
   "metadata": {},
   "outputs": [],
   "source": []
  }
 ],
 "metadata": {
  "kernelspec": {
   "display_name": "Python 3 (ipykernel)",
   "language": "python",
   "name": "python3"
  },
  "language_info": {
   "codemirror_mode": {
    "name": "ipython",
    "version": 3
   },
   "file_extension": ".py",
   "mimetype": "text/x-python",
   "name": "python",
   "nbconvert_exporter": "python",
   "pygments_lexer": "ipython3",
   "version": "3.9.12"
  }
 },
 "nbformat": 4,
 "nbformat_minor": 5
}
