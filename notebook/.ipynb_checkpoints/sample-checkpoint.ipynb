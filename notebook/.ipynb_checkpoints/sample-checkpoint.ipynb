{
 "cells": [
  {
   "cell_type": "code",
   "execution_count": 2,
   "id": "295ae69f",
   "metadata": {},
   "outputs": [],
   "source": [
    "# install package\n",
    "import numpy as np\n",
    "from matplotlib import pyplot as plt\n",
    "from mpl_toolkits.mplot3d import Axes3D\n",
    "import sympy\n",
    "\n",
    "%matplotlib notebook"
   ]
  },
  {
   "cell_type": "code",
   "execution_count": 3,
   "id": "2f94b5ae",
   "metadata": {},
   "outputs": [],
   "source": [
    "t1 = [400, 300, 360]\n",
    "t2 = [0, 300, 370]"
   ]
  },
  {
   "cell_type": "code",
   "execution_count": null,
   "id": "0dbd1414",
   "metadata": {},
   "outputs": [],
   "source": [
    "x1 = [400, ]"
   ]
  }
 ],
 "metadata": {
  "kernelspec": {
   "display_name": "Python 3 (ipykernel)",
   "language": "python",
   "name": "python3"
  },
  "language_info": {
   "codemirror_mode": {
    "name": "ipython",
    "version": 3
   },
   "file_extension": ".py",
   "mimetype": "text/x-python",
   "name": "python",
   "nbconvert_exporter": "python",
   "pygments_lexer": "ipython3",
   "version": "3.9.12"
  }
 },
 "nbformat": 4,
 "nbformat_minor": 5
}
