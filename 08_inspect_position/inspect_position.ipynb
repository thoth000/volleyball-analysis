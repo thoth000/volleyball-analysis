{
 "cells": [
  {
   "cell_type": "code",
   "execution_count": 3,
   "id": "f6500d6b",
   "metadata": {},
   "outputs": [],
   "source": [
    "# install package\n",
    "import cv2\n",
    "import numpy as np\n",
    "from matplotlib import pyplot as plt\n",
    "from mpl_toolkits.mplot3d import Axes3D\n",
    "import sympy\n",
    "from IPython.display import clear_output\n",
    "\n",
    "%matplotlib notebook"
   ]
  },
  {
   "cell_type": "code",
   "execution_count": 32,
   "id": "a38cf8cf",
   "metadata": {},
   "outputs": [
    {
     "name": "stdout",
     "output_type": "stream",
     "text": [
      "cp_origin [[138, 809], [1281, 992], [1352, 299], [845, 273]]\n",
      "calib1 [616, 326, 1]\n",
      "calib2 [1346, 386, 1]\n"
     ]
    }
   ],
   "source": [
    "###### 画像 ######\n",
    "path = \"images/11.png\"\n",
    "origin_img = cv2.imread(path)\n",
    "\n",
    "###### 変数 ######\n",
    "# コートサイズ設定\n",
    "width = 1800 #コート横\n",
    "height = 900 #コート縦\n",
    "\n",
    "# コート四隅\n",
    "cp_origin = [] #画像内座標配列\n",
    "cp_trans = [[0,0], [0, height], [width, height], [width, 0]] #射影座標配列\n",
    "\n",
    "# キャリブレーション物体\n",
    "calib1 = [0, 0, 1] #キャリブレーション1画像内座標\n",
    "calib2 = [0, 0, 1] #キャリブレーション2画像内座標\n",
    "\n",
    "# ペンをコート中央に立てる場合、[0, 0, 140]=>[900, 0, 140], [0, 900, 140]=>[900, 900, 140]に変更する\n",
    "real_calib1 = [900, 0, 140] #既知キャリブレーション1世界座標\n",
    "real_calib2 = [900, 900, 140] #既知キャリブレーション2世界座標\n",
    "\n",
    "mode = \"neutral\" #処理モード管理変数\n",
    "\n",
    "###### 関数 ######\n",
    "def print_coord(): # 座標表示関数\n",
    "    print(\"cp_origin\", cp_origin)\n",
    "    print(\"calib1\", calib1)\n",
    "    print(\"calib2\", calib2)\n",
    "\n",
    "def click_L(x, y): # 座標保存関数\n",
    "    global cp_origin, calib1, calib2, mode\n",
    "    if mode == \"neutral\":\n",
    "        return\n",
    "    elif mode == \"calib1\":\n",
    "        calib1 = [x, y, 1]\n",
    "    elif mode == \"calib2\":\n",
    "        calib2 = [x, y, 1]\n",
    "    else:\n",
    "        cp_origin.append([x, y])\n",
    "    print(x, y)\n",
    "\n",
    "def click_R(): # 座標リセット関数\n",
    "    global cp_origin, calib1, calib2, mode\n",
    "    if mode == \"neutral\":\n",
    "        return\n",
    "    elif mode == \"calib1\":\n",
    "        calib1 = [0, 0, 1]\n",
    "    elif mode == \"calib2\":\n",
    "        calib2 = [0, 0, 1]\n",
    "    else:\n",
    "        cp_origin = []\n",
    "    print(mode, \"reset\")\n",
    "\n",
    "def process(event, x, y, flags, params): # マウス割り当て関数\n",
    "    if event == cv2.EVENT_LBUTTONDOWN:\n",
    "        click_L(x, y)\n",
    "    elif event == cv2.EVENT_RBUTTONDOWN:\n",
    "        click_R()\n",
    "\n",
    "###### クリック処理 ######\n",
    "cv2.imshow(\"Calibration\", origin_img)\n",
    "cv2.setMouseCallback(\"Calibration\", process)\n",
    "while True:\n",
    "    key = cv2.waitKey(0) & 0xff\n",
    "    clear_output(True)\n",
    "    if key == ord(\"a\"):\n",
    "        mode = \"court\"\n",
    "    elif key == ord(\"b\"):\n",
    "        mode = \"calib1\"\n",
    "    elif key == ord(\"c\"):\n",
    "        mode = \"calib2\"\n",
    "    elif key == ord(\"z\"):\n",
    "        clear_output(True)\n",
    "        break\n",
    "    print(mode)\n",
    "cv2.destroyAllWindows()\n",
    "\n",
    "print_coord()"
   ]
  },
  {
   "cell_type": "code",
   "execution_count": 33,
   "id": "f5c91d79",
   "metadata": {},
   "outputs": [
    {
     "data": {
      "text/plain": [
       "array([-751.7695,  881.3501,  654.8734], dtype=float32)"
      ]
     },
     "execution_count": 33,
     "metadata": {},
     "output_type": "execute_result"
    }
   ],
   "source": [
    "###### カメラ位置 ######\n",
    "cp_origin = np.float32(cp_origin) # 型変換\n",
    "cp_trans = np.float32(cp_trans) # 型変換\n",
    "Matrix1 = cv2.getPerspectiveTransform(cp_origin, cp_trans) # 射影行列\n",
    "\n",
    "# 射影先座標の計算\n",
    "trans_calib1 = np.dot(Matrix1, calib1)\n",
    "trans_calib2 = np.dot(Matrix1, calib2)\n",
    "trans_calib1 /= trans_calib1[2]\n",
    "trans_calib2 /= trans_calib2[2]\n",
    "trans_calib1[2] = 0\n",
    "trans_calib2[2] = 0\n",
    "\n",
    "# ベクトルの定義\n",
    "dir1 = real_calib1 - trans_calib1\n",
    "dir2 = real_calib2 - trans_calib2\n",
    "\n",
    "# 媒介変数\n",
    "t = sympy.Symbol(\"t\") # キャリブレーション1側\n",
    "s = sympy.Symbol(\"s\") # キャリブレーション2側\n",
    "\n",
    "# XYZの差の二乗をとった距離関数\n",
    "R = ((trans_calib1[0]+t*dir1[0]) - (trans_calib2[0]+s*dir2[0]))**2 + ((trans_calib1[1]+t*dir1[1]) - (trans_calib2[1]+s*dir2[1]))**2 + ((trans_calib1[2]+t*dir1[2]) - (trans_calib2[2]+s*dir2[2]))**2\n",
    "\n",
    "# 偏微分\n",
    "dR_dt = sympy.diff(R, t)\n",
    "dR_ds = sympy.diff(R, s)\n",
    "\n",
    "# 極値問題として解く（極大が存在しないため実質的に極小を求める）\n",
    "ans = sympy.solve([dR_dt, dR_ds])\n",
    "t_val = ans[t]\n",
    "s_val = ans[s]\n",
    "\n",
    "# 2直線上の最近点\n",
    "close1 = np.float32([trans_calib1[0]+t_val*dir1[0], trans_calib1[1]+t_val*dir1[1], trans_calib1[2]+t_val*dir1[2]])\n",
    "close2 = np.float32([trans_calib2[0]+s_val*dir2[0], trans_calib2[1]+s_val*dir2[1], trans_calib2[2]+s_val*dir2[2]])\n",
    "\n",
    "# カメラ位置\n",
    "camera1 = (close1+close2)/2\n",
    "camera1"
   ]
  },
  {
   "cell_type": "code",
   "execution_count": null,
   "id": "3afbddc0",
   "metadata": {},
   "outputs": [],
   "source": []
  }
 ],
 "metadata": {
  "kernelspec": {
   "display_name": "Python 3 (ipykernel)",
   "language": "python",
   "name": "python3"
  },
  "language_info": {
   "codemirror_mode": {
    "name": "ipython",
    "version": 3
   },
   "file_extension": ".py",
   "mimetype": "text/x-python",
   "name": "python",
   "nbconvert_exporter": "python",
   "pygments_lexer": "ipython3",
   "version": "3.9.12"
  }
 },
 "nbformat": 4,
 "nbformat_minor": 5
}
